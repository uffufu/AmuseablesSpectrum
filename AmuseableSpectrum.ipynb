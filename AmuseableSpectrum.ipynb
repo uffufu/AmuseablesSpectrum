{
 "cells": [
  {
   "cell_type": "markdown",
   "metadata": {},
   "source": [
    "**Required Packages**\n",
    "- numpy: 1.19.5  \n",
    "- matplotlib: 3.5.3  \n",
    "- astropy: 5.1  \n",
    "- spectral_cube: 0.5.0"
   ]
  },
  {
   "cell_type": "code",
   "execution_count": null,
   "metadata": {},
   "outputs": [],
   "source": [
    "import numpy as np\n",
    "import matplotlib.pyplot as plt\n",
    "import pandas as pd\n",
    "\n",
    "# ===== cube reading and spectrum extraction =====\n",
    "from spectral_cube import SpectralCube\n",
    "from astropy.io import fits\n",
    "from astropy import units as u\n",
    "from astropy.wcs import WCS\n",
    "# ===== file handling =====\n",
    "import os\n",
    "from glob import glob\n",
    "import tkinter as tk\n",
    "from tkinter import filedialog\n",
    "from datetime import datetime"
   ]
  },
  {
   "cell_type": "markdown",
   "metadata": {},
   "source": [
    "**file selection**"
   ]
  },
  {
   "cell_type": "code",
   "execution_count": null,
   "metadata": {},
   "outputs": [],
   "source": [
    "def select_file():\n",
    "    # ===== user selects a single FITS file. =====\n",
    "    root = tk.Tk()\n",
    "    root.withdraw()\n",
    "    file_path = filedialog.askopenfilename(title=\"Select FITS file\", filetypes=[(\"FITS files\", \"*.fits\")])\n",
    "    \n",
    "    return file_path\n",
    "\n",
    "def select_folder_and_find_fits():\n",
    "    # ===== user selects a folder, and the script finds all FITS files in that folder. =====\n",
    "    root = tk.Tk()\n",
    "    root.withdraw()\n",
    "    folder_path = filedialog.askdirectory(title=\"Select folder\")\n",
    "    if not folder_path:\n",
    "        print(\"No folder selected.\")\n",
    "        return [], None\n",
    "\n",
    "    fits_files = glob(os.path.join(folder_path, \"*.fits\"))\n",
    "    if not fits_files:\n",
    "        print(\"No FITS files found in the selected folder.\")\n",
    "        return [], None\n",
    "\n",
    "    folder_name = os.path.basename(folder_path)\n",
    "    print(\"FITS files found：\")\n",
    "    for i, f in enumerate(fits_files):\n",
    "        print(f\"{i}: {f}\")\n",
    "\n",
    "    return fits_files, folder_name"
   ]
  },
  {
   "cell_type": "markdown",
   "metadata": {},
   "source": [
    "**read the cube**"
   ]
  },
  {
   "cell_type": "code",
   "execution_count": null,
   "metadata": {},
   "outputs": [],
   "source": [
    "def read_fits_file(file_name):\n",
    "    # ===== read the FITS file and return the data and header. =====\n",
    "    cube_data = fits.getdata(file_name)\n",
    "    header = fits.getheader(file_name)\n",
    "    n_channels = cube_data.shape[0]\n",
    "    print(f\"total channels: {n_channels}\")\n",
    "    base = os.path.splitext(os.path.basename(file_name))[0]\n",
    "    \n",
    "    return cube_data, header, n_channels, base"
   ]
  },
  {
   "cell_type": "markdown",
   "metadata": {},
   "source": [
    "**get spectrum**"
   ]
  },
  {
   "cell_type": "code",
   "execution_count": null,
   "metadata": {},
   "outputs": [],
   "source": [
    "def get_spectrum(cube_data):\n",
    "    # ===== calculate the spectrum from the cube data. =====\n",
    "    spectrum = np.nanmean(cube_data, axis=(1, 2)) \n",
    "\n",
    "    return spectrum"
   ]
  },
  {
   "cell_type": "markdown",
   "metadata": {},
   "source": [
    "**exclude edge channels**"
   ]
  },
  {
   "cell_type": "code",
   "execution_count": null,
   "metadata": {},
   "outputs": [],
   "source": [
    "def exclude_edge_channels(n_channels, exclude_fraction=1/8):\n",
    "    # ===== exclude the edge channels based on the specified fraction. =====\n",
    "    start_idx = int(n_channels * exclude_fraction)\n",
    "    end_idx = int(n_channels * (1 - exclude_fraction))\n",
    "    print(f\"channels used: {start_idx+1} to {end_idx}\") # +1 because the end index start from 0\n",
    "    \n",
    "    return start_idx, end_idx"
   ]
  },
  {
   "cell_type": "markdown",
   "metadata": {},
   "source": [
    "**select channels with signals**"
   ]
  },
  {
   "cell_type": "code",
   "execution_count": null,
   "metadata": {},
   "outputs": [],
   "source": [
    "def filter_out_channels(spectrum, start_idx, end_idx):\n",
    "    # ===== roughly filter out channels by checking if the signal is above RMS of spectrum intensity =====\n",
    "\n",
    "    # calculate the RMS of the original spectrum\n",
    "    original_rms = np.sqrt(np.nanmean(spectrum[start_idx:end_idx]**2))\n",
    "    # check if the signal above the RMS is continuous for at least 3 channels\n",
    "    valid_channels = []\n",
    "    for i in range(start_idx, end_idx - 2):# -2 is because we check 3 channels\n",
    "        if all(spectrum[i:i+3] > original_rms):\n",
    "            valid_channels.extend([i, i+1, i+2])\n",
    "        \n",
    "    valid_channels = sorted(set(valid_channels))\n",
    "    ranges = []\n",
    "    if valid_channels:\n",
    "        start = valid_channels[0]\n",
    "        for i in range(1, len(valid_channels)):\n",
    "            if valid_channels[i] != valid_channels[i - 1] + 1:  # if not continuous\n",
    "                ranges.append((start, valid_channels[i - 1]))  # add range\n",
    "                start = valid_channels[i]  # update start point\n",
    "        ranges.append((start, valid_channels[-1]))  # add the last range\n",
    "    print(f\"number of channels with signals: {len(valid_channels)}, channels with signals: {ranges}\")\n",
    "    # plot\n",
    "    plt.figure(figsize=(15, 3))\n",
    "    plt.plot(spectrum, label='Spectrum')\n",
    "    plt.axhline(y=original_rms, color='green', linestyle='--', label=f'Rough Threshold = {original_rms:.4f}')\n",
    "    for ch in valid_channels:\n",
    "        plt.axvline(x=ch, color='yellow', alpha=0.5, label='Filtered Channels' if ch == valid_channels[0] else None)# just for label\n",
    "    \n",
    "    plt.title(\"Original Spectrum with Threshold\")\n",
    "    plt.xlabel(\"Channel\")\n",
    "    plt.ylabel(\"Intensity\")\n",
    "    plt.legend()\n",
    "    plt.show()\n",
    "\n",
    "    return valid_channels, ranges"
   ]
  },
  {
   "cell_type": "markdown",
   "metadata": {},
   "source": [
    "**filter out the data cube**"
   ]
  },
  {
   "cell_type": "code",
   "execution_count": null,
   "metadata": {},
   "outputs": [],
   "source": [
    "def masking(cube_data, valid_channels, start_idx, end_idx):\n",
    "    # ===== create masked cube data =====\n",
    "\n",
    "    # calculate RMS of each noise channel and take the average\n",
    "    noise_channels = [i for i in range(start_idx, end_idx+1) if i not in valid_channels]\n",
    "    noise_rms = [np.sqrt(np.nanmean(cube_data[ch, :, :]**2)) for ch in noise_channels]\n",
    "    rms = np.mean(noise_rms)\n",
    "\n",
    "    # only process valid channels\n",
    "    valid_cube = cube_data[valid_channels, :, :]\n",
    "\n",
    "    # apply 3𝜎 mask\n",
    "    masked_valid_cube = np.where(valid_cube >= 3 * rms, valid_cube, np.nan)\n",
    "    \n",
    "    return masked_valid_cube, rms"
   ]
  },
  {
   "cell_type": "markdown",
   "metadata": {},
   "source": [
    "**do the moment maps**"
   ]
  },
  {
   "cell_type": "code",
   "execution_count": null,
   "metadata": {},
   "outputs": [],
   "source": [
    "def moment_maps(masked_valid_cube, header, base):\n",
    "    # ===== use SpectralCube to calculate Moment Maps =====\n",
    "\n",
    "    wcs = WCS(header)\n",
    "    cube = SpectralCube(data=masked_valid_cube, wcs=wcs)\n",
    "    \n",
    "    moment0 = cube.moment(order=0)\n",
    "    moment1 = cube.moment(order=1)\n",
    "    moment2 = cube.moment(order=2)\n",
    "    \n",
    "    # convert units to be consistent with CARTA units\n",
    "    if moment0.unit.is_equivalent(u.Jy / u.beam * u.m / u.s):\n",
    "        moment0 = moment0.to(u.Jy / u.beam * u.km / u.s)\n",
    "    if moment1.unit.is_equivalent(u.m / u.s):\n",
    "        moment1 = moment1.to(u.km / u.s)\n",
    "    if moment2.unit.is_equivalent((u.km / u.s)**2):\n",
    "        moment2_disp = (moment2 ** 0.5).to(u.km / u.s) # dispersion\n",
    "\n",
    "    # Generate a timestamp\n",
    "    timestamp = datetime.now().strftime(\"%m%d_%H%M%S\")\n",
    "\n",
    "    # Save Moment Maps as FITS files\n",
    "    moment0.write(f\"{base}_moment0_{timestamp}.fits\", overwrite=True)\n",
    "    moment1.write(f\"{base}_moment1_{timestamp}.fits\", overwrite=True)\n",
    "    moment2_disp.write(f\"{base}_moment2_{timestamp}.fits\", overwrite=True)\n",
    "    print(f\"Moment Maps saved as{base}_moment0/1/2_{timestamp}.fits\")"
   ]
  },
  {
   "cell_type": "markdown",
   "metadata": {},
   "source": [
    "**save to excel**"
   ]
  },
  {
   "cell_type": "code",
   "execution_count": null,
   "metadata": {},
   "outputs": [],
   "source": [
    "def write_to_excel(file_name, rms, ranges, excel_path, folder_name=False):\n",
    "    # ===== write the results to an Excel file, sheet name based on file or folder name =====\n",
    "    \n",
    "    output_data = {\n",
    "        \"filename\": [file_name],\n",
    "        \"time\": [datetime.now().strftime(\"%Y-%m-%d %H:%M:%S\")],\n",
    "        \"rms\": [rms],\n",
    "    }\n",
    "    # write ranges to output_data\n",
    "    for idx, (start, end) in enumerate(ranges):\n",
    "        output_data[f\"range_{idx + 1}_start\"] = [start]\n",
    "        output_data[f\"range_{idx + 1}_end\"] = [end]\n",
    "\n",
    "    df = pd.DataFrame(output_data)\n",
    "\n",
    "    # worksheet name based on file or folder name\n",
    "    if folder_name and os.path.dirname(file_name):\n",
    "        sheet_name = os.path.basename(os.path.dirname(file_name))\n",
    "    else:\n",
    "        sheet_name = os.path.splitext(os.path.basename(file_name))[0]\n",
    "    # limit sheet name length to 31 characters\n",
    "    sheet_name = sheet_name[:31]\n",
    "\n",
    "    # check if the directory exists, create it if not\n",
    "    \n",
    "    if os.path.dirname(excel_path):\n",
    "        os.makedirs(os.path.dirname(excel_path), exist_ok=True)\n",
    "\n",
    "    # if Excel file already exists, read existing data and append\n",
    "    if os.path.exists(excel_path):\n",
    "        with pd.ExcelWriter(excel_path, engine=\"openpyxl\", mode=\"a\" ,if_sheet_exists=\"overlay\") as writer:\n",
    "            try:\n",
    "                existing_df = pd.read_excel(excel_path, sheet_name=sheet_name)\n",
    "                df = pd.concat([existing_df, df], ignore_index=True)\n",
    "            except ValueError:\n",
    "                # if sheet does not exist, write directly\n",
    "                pass\n",
    "            df.to_excel(writer, sheet_name=sheet_name, index=False)\n",
    "    else:\n",
    "        # if the file does not exist, create a new one\n",
    "        with pd.ExcelWriter(excel_path, engine=\"openpyxl\", mode=\"w\") as writer:\n",
    "            df.to_excel(writer, sheet_name=sheet_name, index=False)\n",
    "\n",
    "    print(f\"Write in Excel: {excel_path}，Sheet: {sheet_name}\")"
   ]
  },
  {
   "cell_type": "markdown",
   "metadata": {},
   "source": [
    "**main**"
   ]
  },
  {
   "cell_type": "code",
   "execution_count": null,
   "metadata": {},
   "outputs": [],
   "source": [
    "'''main workflow'''\n",
    "fraction = 1/8  # default fraction of channels to exclude from edges\n",
    "excel_path = \"moment_info.xlsx\"  # default path for Excel file\n",
    "\n",
    "mode = input(\"Enter ‘f’ to select manually, or ‘d’ to select folder and automatically search for FITS files:\")\n",
    "if mode == 'f':\n",
    "    file_list = [select_file()]\n",
    "    folder_name = None\n",
    "elif mode == 'd':\n",
    "    file_list, folder_name = select_folder_and_find_fits()\n",
    "else:\n",
    "    raise ValueError(\"Please enter ‘f’ or 'd'.\")\n",
    "\n",
    "print(\"Files used:\")\n",
    "for file_name in file_list:\n",
    "    print(file_name)\n",
    "\n",
    "    cube_data, header, n_channels, base = read_fits_file(file_name)\n",
    "    spectrum = get_spectrum(cube_data)\n",
    "\n",
    "    start_idx, end_idx = exclude_edge_channels(n_channels, fraction)\n",
    "    valid_channels, ranges = filter_out_channels(spectrum, start_idx, end_idx)\n",
    "\n",
    "    masked_valid_cube, rms = masking(cube_data, valid_channels, start_idx, end_idx)\n",
    "    \n",
    "    moment_maps(masked_valid_cube, header, base)\n",
    "\n",
    "    write_to_excel(base, rms, ranges, excel_path)"
   ]
  }
 ],
 "metadata": {
  "kernelspec": {
   "display_name": "summer",
   "language": "python",
   "name": "python3"
  },
  "language_info": {
   "codemirror_mode": {
    "name": "ipython",
    "version": 3
   },
   "file_extension": ".py",
   "mimetype": "text/x-python",
   "name": "python",
   "nbconvert_exporter": "python",
   "pygments_lexer": "ipython3",
   "version": "3.9.23"
  }
 },
 "nbformat": 4,
 "nbformat_minor": 2
}
